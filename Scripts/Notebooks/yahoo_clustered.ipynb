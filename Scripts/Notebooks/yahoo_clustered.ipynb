{
 "cells": [
  {
   "cell_type": "code",
   "execution_count": null,
   "metadata": {
    "colab": {
     "base_uri": "https://localhost:8080/"
    },
    "executionInfo": {
     "elapsed": 70100,
     "status": "ok",
     "timestamp": 1652938289687,
     "user": {
      "displayName": "Giovanni Gamaliel López Padilla",
      "userId": "00801951827653287620"
     },
     "user_tz": 300
    },
    "id": "s3su6RPyuVfz",
    "outputId": "13e0536a-c93a-4e88-c07c-65e29227698e"
   },
   "outputs": [],
   "source": [
    "!cp -r /content/drive/MyDrive/Lenguaje/Proyecto/Modules Modules\n",
    "!pip install top2vec"
   ]
  },
  {
   "cell_type": "code",
   "execution_count": 1,
   "metadata": {
    "id": "ZODy-e2nuasc"
   },
   "outputs": [],
   "source": [
    "from Modules.functions import get_labels, get_hierarchy_topic\n",
    "from Modules.params import get_params\n",
    "from top2vec import Top2Vec\n",
    "from os.path import join\n",
    "import hdbscan\n",
    "import umap"
   ]
  },
  {
   "cell_type": "code",
   "execution_count": 2,
   "metadata": {
    "id": "Gj01fg5kufzV"
   },
   "outputs": [],
   "source": [
    "params = get_params()\n",
    "filename = join(params[\"path models\"],\n",
    "                params[\"yahoo model\"])\n",
    "model = Top2Vec.load(filename)"
   ]
  },
  {
   "cell_type": "code",
   "execution_count": 3,
   "metadata": {
    "colab": {
     "base_uri": "https://localhost:8080/"
    },
    "executionInfo": {
     "elapsed": 49303,
     "status": "ok",
     "timestamp": 1652938417914,
     "user": {
      "displayName": "Giovanni Gamaliel López Padilla",
      "userId": "00801951827653287620"
     },
     "user_tz": 300
    },
    "id": "2P3QoUdlu0uZ",
    "outputId": "9f361e26-ef38-4af1-e419-2970736684e1"
   },
   "outputs": [],
   "source": [
    "umap_args = {\n",
    "    \"n_neighbors\": 15,\n",
    "    \"n_components\": 2,\n",
    "    \"metric\": \"cosine\",\n",
    "}\n",
    "umap_model = umap.UMAP(**umap_args)\n",
    "vectors = umap_model.fit(model.document_vectors)"
   ]
  },
  {
   "cell_type": "code",
   "execution_count": 4,
   "metadata": {
    "id": "Ia7-dvDjvfYZ"
   },
   "outputs": [],
   "source": [
    "cluster_model = hdbscan.HDBSCAN(min_cluster_size=15,\n",
    "                                metric='euclidean',\n",
    "                                cluster_selection_method='eom')\n",
    "cluster = cluster_model.fit(umap_model.embedding_)\n",
    "hierarchy_dict = get_hierarchy_topic(model,10)\n",
    "clustered, outliers = get_labels(umap_model,\n",
    "                                 model)\n",
    "clustered[\"topic\"] = clustered[\"doc_top\"].apply(\n",
    "    lambda label: hierarchy_dict[label])\n",
    "filename = join(params[\"path results\"],\n",
    "                \"yahoo_clustered.csv\")\n",
    "clustered.to_csv(filename,\n",
    "                 index=False)"
   ]
  },
  {
   "cell_type": "code",
   "execution_count": null,
   "metadata": {
    "id": "mQawJ7OK0CBt"
   },
   "outputs": [],
   "source": []
  }
 ],
 "metadata": {
  "colab": {
   "authorship_tag": "ABX9TyMVzR9/cUOv1bYJWXvNBV3P",
   "collapsed_sections": [],
   "mount_file_id": "1zUG4n819hnErrCGGyRN6TVPFo1V25NvN",
   "name": "yahoo_clustered.ipynb",
   "provenance": []
  },
  "kernelspec": {
   "display_name": "Python 3",
   "language": "python",
   "name": "python3"
  },
  "language_info": {
   "codemirror_mode": {
    "name": "ipython",
    "version": 3
   },
   "file_extension": ".py",
   "mimetype": "text/x-python",
   "name": "python",
   "nbconvert_exporter": "python",
   "pygments_lexer": "ipython3",
   "version": "3.8.10"
  },
  "latex_envs": {
   "LaTeX_envs_menu_present": true,
   "autoclose": false,
   "autocomplete": true,
   "bibliofile": "biblio.bib",
   "cite_by": "apalike",
   "current_citInitial": 1,
   "eqLabelWithNumbers": true,
   "eqNumInitial": 1,
   "hotkeys": {
    "equation": "Ctrl-E",
    "itemize": "Ctrl-I"
   },
   "labels_anchors": false,
   "latex_user_defs": false,
   "report_style_numbering": false,
   "user_envs_cfg": false
  }
 },
 "nbformat": 4,
 "nbformat_minor": 1
}
